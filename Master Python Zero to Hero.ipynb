{
    "cells": [
        {
            "cell_type": "code",
            "execution_count": 11,
            "source": [
                "x=3"
            ],
            "outputs": [],
            "metadata": {}
        },
        {
            "cell_type": "code",
            "execution_count": 12,
            "source": [
                "print(type(x))"
            ],
            "outputs": [
                {
                    "output_type": "stream",
                    "name": "stdout",
                    "text": [
                        "<class 'int'>\n"
                    ]
                }
            ],
            "metadata": {}
        },
        {
            "cell_type": "code",
            "execution_count": 13,
            "source": [
                "x=5.7"
            ],
            "outputs": [],
            "metadata": {}
        },
        {
            "cell_type": "code",
            "execution_count": 3,
            "source": [
                "#round(number,no of digit after decimal)\r\n",
                "print(round(5.6231))\r\n",
                "print(round(4.55842,3))"
            ],
            "outputs": [
                {
                    "output_type": "stream",
                    "name": "stdout",
                    "text": [
                        "6\n",
                        "4.558\n"
                    ]
                }
            ],
            "metadata": {}
        },
        {
            "cell_type": "code",
            "execution_count": 2,
            "source": [
                "# Returns quotient and remainder as tuple\r\n",
                "divmod(27,5)"
            ],
            "outputs": [
                {
                    "output_type": "execute_result",
                    "data": {
                        "text/plain": [
                            "(5, 2)"
                        ]
                    },
                    "metadata": {},
                    "execution_count": 2
                }
            ],
            "metadata": {}
        },
        {
            "cell_type": "code",
            "execution_count": 5,
            "source": [
                "num=divmod(34,8)\r\n",
                "num[0]\r\n"
            ],
            "outputs": [
                {
                    "output_type": "execute_result",
                    "data": {
                        "text/plain": [
                            "4"
                        ]
                    },
                    "metadata": {},
                    "execution_count": 5
                }
            ],
            "metadata": {}
        },
        {
            "cell_type": "code",
            "execution_count": 6,
            "source": [
                "num[1]"
            ],
            "outputs": [
                {
                    "output_type": "execute_result",
                    "data": {
                        "text/plain": [
                            "2"
                        ]
                    },
                    "metadata": {},
                    "execution_count": 6
                }
            ],
            "metadata": {}
        },
        {
            "cell_type": "code",
            "execution_count": 7,
            "source": [
                "isinstance(3,int)"
            ],
            "outputs": [
                {
                    "output_type": "execute_result",
                    "data": {
                        "text/plain": [
                            "True"
                        ]
                    },
                    "metadata": {},
                    "execution_count": 7
                }
            ],
            "metadata": {}
        },
        {
            "cell_type": "code",
            "execution_count": 8,
            "source": [
                "#True if the type of number passed belongs to any of the type\r\n",
                "#mentioned in the bracket\r\n",
                "isinstance(3.4,(float,int))"
            ],
            "outputs": [
                {
                    "output_type": "execute_result",
                    "data": {
                        "text/plain": [
                            "True"
                        ]
                    },
                    "metadata": {},
                    "execution_count": 8
                }
            ],
            "metadata": {}
        },
        {
            "cell_type": "code",
            "execution_count": 9,
            "source": [
                "x,y,z=5,4,3\r\n",
                "# x raise to the power y and remainder by z\r\n",
                "pow(x,y,z)"
            ],
            "outputs": [
                {
                    "output_type": "execute_result",
                    "data": {
                        "text/plain": [
                            "1"
                        ]
                    },
                    "metadata": {},
                    "execution_count": 9
                }
            ],
            "metadata": {}
        },
        {
            "cell_type": "code",
            "execution_count": 12,
            "source": [
                "# Input is of string datatype\r\n",
                "a=input(\"Enter a number:\")\r\n",
                "print(a)\r\n",
                "print(type(a))"
            ],
            "outputs": [
                {
                    "output_type": "stream",
                    "name": "stdout",
                    "text": [
                        "5\n",
                        "<class 'str'>\n"
                    ]
                }
            ],
            "metadata": {}
        },
        {
            "cell_type": "code",
            "execution_count": 13,
            "source": [
                "a=int(input())\r\n",
                "b=int(input())\r\n",
                "if b>a:print(\"b is greater than a\")\r\n",
                "else : print(\"a is greater than b\")"
            ],
            "outputs": [
                {
                    "output_type": "stream",
                    "name": "stdout",
                    "text": [
                        "a is greater than b\n"
                    ]
                }
            ],
            "metadata": {}
        },
        {
            "cell_type": "code",
            "execution_count": 14,
            "source": [
                "a=9\r\n",
                "b=10\r\n",
                "if a>b:print(a)\r\n",
                "elif a==b:print(\"=\")\r\n",
                "else: print(b)\r\n",
                "\r\n",
                "print(a) if a>b else print (\"=\") if a==b else print(b)"
            ],
            "outputs": [
                {
                    "output_type": "stream",
                    "name": "stdout",
                    "text": [
                        "10\n"
                    ]
                }
            ],
            "metadata": {}
        },
        {
            "cell_type": "code",
            "execution_count": 2,
            "source": [
                "n=int(input(\"Max iteration: \"))\r\n",
                "i=1\r\n",
                "while i<n:\r\n",
                "    print(i)\r\n",
                "    i+=1\r\n",
                "print(\"Done\")"
            ],
            "outputs": [
                {
                    "output_type": "stream",
                    "name": "stdout",
                    "text": [
                        "1\n",
                        "2\n",
                        "3\n",
                        "4\n",
                        "5\n",
                        "6\n",
                        "7\n",
                        "8\n",
                        "9\n",
                        "Done\n"
                    ]
                }
            ],
            "metadata": {}
        },
        {
            "cell_type": "code",
            "execution_count": 3,
            "source": [
                "n=10\r\n",
                "i=1\r\n",
                "while True:\r\n",
                "    if i%9==0:break\r\n",
                "    else: \r\n",
                "        print(i) \r\n",
                "        i+=1\r\n"
            ],
            "outputs": [
                {
                    "output_type": "stream",
                    "name": "stdout",
                    "text": [
                        "1\n",
                        "2\n",
                        "3\n",
                        "4\n",
                        "5\n",
                        "6\n",
                        "7\n",
                        "8\n"
                    ]
                }
            ],
            "metadata": {}
        },
        {
            "cell_type": "code",
            "execution_count": 5,
            "source": [
                "l=[]\r\n",
                "for i in range(10):\r\n",
                "    print(i+1)\r\n",
                "    l.append(i**2)\r\n",
                "\r\n",
                "for i in range(10):\r\n",
                "    print(l[i])"
            ],
            "outputs": [
                {
                    "output_type": "stream",
                    "name": "stdout",
                    "text": [
                        "1\n",
                        "2\n",
                        "3\n",
                        "4\n",
                        "5\n",
                        "6\n",
                        "7\n",
                        "8\n",
                        "9\n",
                        "10\n",
                        "0\n",
                        "1\n",
                        "4\n",
                        "9\n",
                        "16\n",
                        "25\n",
                        "36\n",
                        "49\n",
                        "64\n",
                        "81\n"
                    ]
                }
            ],
            "metadata": {}
        },
        {
            "cell_type": "code",
            "execution_count": 6,
            "source": [
                "for i in range(0,5,2):\r\n",
                "    print(i)"
            ],
            "outputs": [
                {
                    "output_type": "stream",
                    "name": "stdout",
                    "text": [
                        "0\n",
                        "2\n",
                        "4\n"
                    ]
                }
            ],
            "metadata": {}
        },
        {
            "cell_type": "code",
            "execution_count": 7,
            "source": [
                "s={\"apple\",4.9,\"Cherry\"}\r\n",
                "for x in s:\r\n",
                "    print(x)"
            ],
            "outputs": [
                {
                    "output_type": "stream",
                    "name": "stdout",
                    "text": [
                        "apple\n",
                        "4.9\n",
                        "Cherry\n"
                    ]
                }
            ],
            "metadata": {}
        },
        {
            "cell_type": "code",
            "execution_count": 8,
            "source": [
                "#Dictionary\r\n",
                "D={\"apple\":44,\"Cherry\":\"game\"}\r\n",
                "for x in D:\r\n",
                "    print(x,D[x])"
            ],
            "outputs": [
                {
                    "output_type": "stream",
                    "name": "stdout",
                    "text": [
                        "apple 44\n",
                        "Cherry game\n"
                    ]
                }
            ],
            "metadata": {}
        },
        {
            "cell_type": "code",
            "execution_count": 11,
            "source": [
                "# Given a list of numbers make another list containing unique nos\r\n",
                "# in ascending order\r\n",
                "l=[1,2,4,-5,7,9,3,2]\r\n",
                "l=set(l)\r\n",
                "sorted(l)\r\n",
                "l"
            ],
            "outputs": [
                {
                    "output_type": "execute_result",
                    "data": {
                        "text/plain": [
                            "{-5, 1, 2, 3, 4, 7, 9}"
                        ]
                    },
                    "metadata": {},
                    "execution_count": 11
                }
            ],
            "metadata": {}
        },
        {
            "cell_type": "code",
            "execution_count": 14,
            "source": [
                "def sumOftwonum(a,b):\r\n",
                "    \"\"\"\r\n",
                "        This function adds two numbers\r\n",
                "    \"\"\"\r\n",
                "    c=a+b\r\n",
                "    return c\r\n",
                "\r\n",
                "sumOftwonum(5,7)"
            ],
            "outputs": [
                {
                    "output_type": "execute_result",
                    "data": {
                        "text/plain": [
                            "12"
                        ]
                    },
                    "metadata": {},
                    "execution_count": 14
                }
            ],
            "metadata": {}
        },
        {
            "cell_type": "code",
            "execution_count": 17,
            "source": [
                "sumOftwonum?"
            ],
            "outputs": [
                {
                    "output_type": "stream",
                    "name": "stdout",
                    "text": [
                        "\u001b[1;31mSignature:\u001b[0m \u001b[0msumOftwonum\u001b[0m\u001b[1;33m(\u001b[0m\u001b[0ma\u001b[0m\u001b[1;33m,\u001b[0m \u001b[0mb\u001b[0m\u001b[1;33m)\u001b[0m\u001b[1;33m\u001b[0m\u001b[1;33m\u001b[0m\u001b[0m\n",
                        "\u001b[1;31mDocstring:\u001b[0m This function adds two numbers\n",
                        "\u001b[1;31mFile:\u001b[0m      c:\\users\\hp\\appdata\\local\\temp\\ipykernel_19028\\2814019813.py\n",
                        "\u001b[1;31mType:\u001b[0m      function\n"
                    ]
                }
            ],
            "metadata": {}
        },
        {
            "cell_type": "code",
            "execution_count": 18,
            "source": [
                "sumOftwonum??"
            ],
            "outputs": [
                {
                    "output_type": "stream",
                    "name": "stdout",
                    "text": [
                        "\u001b[1;31mSignature:\u001b[0m \u001b[0msumOftwonum\u001b[0m\u001b[1;33m(\u001b[0m\u001b[0ma\u001b[0m\u001b[1;33m,\u001b[0m \u001b[0mb\u001b[0m\u001b[1;33m)\u001b[0m\u001b[1;33m\u001b[0m\u001b[1;33m\u001b[0m\u001b[0m\n",
                        "\u001b[1;31mSource:\u001b[0m   \n",
                        "\u001b[1;32mdef\u001b[0m \u001b[0msumOftwonum\u001b[0m\u001b[1;33m(\u001b[0m\u001b[0ma\u001b[0m\u001b[1;33m,\u001b[0m\u001b[0mb\u001b[0m\u001b[1;33m)\u001b[0m\u001b[1;33m:\u001b[0m\u001b[1;33m\n",
                        "\u001b[0m    \u001b[1;34m\"\"\"\n",
                        "        This function adds two numbers\n",
                        "    \"\"\"\u001b[0m\u001b[1;33m\n",
                        "\u001b[0m    \u001b[0mc\u001b[0m\u001b[1;33m=\u001b[0m\u001b[0ma\u001b[0m\u001b[1;33m+\u001b[0m\u001b[0mb\u001b[0m\u001b[1;33m\n",
                        "\u001b[0m    \u001b[1;32mreturn\u001b[0m \u001b[0mc\u001b[0m\u001b[1;33m\u001b[0m\u001b[1;33m\u001b[0m\u001b[0m\n",
                        "\u001b[1;31mFile:\u001b[0m      c:\\users\\hp\\appdata\\local\\temp\\ipykernel_19028\\2814019813.py\n",
                        "\u001b[1;31mType:\u001b[0m      function\n"
                    ]
                }
            ],
            "metadata": {}
        },
        {
            "cell_type": "code",
            "execution_count": 20,
            "source": [
                "# Variable no of inputs\r\n",
                "def add(*args):\r\n",
                "    sum=0\r\n",
                "    print(type(args))\r\n",
                "    for i in range(len(args)):\r\n",
                "        sum+=args[i]\r\n",
                "    \r\n",
                "    return sum\r\n",
                "\r\n",
                "add(5,7,24,455,25,64)"
            ],
            "outputs": [
                {
                    "output_type": "stream",
                    "name": "stdout",
                    "text": [
                        "<class 'tuple'>\n"
                    ]
                },
                {
                    "output_type": "execute_result",
                    "data": {
                        "text/plain": [
                            "580"
                        ]
                    },
                    "metadata": {},
                    "execution_count": 20
                }
            ],
            "metadata": {}
        },
        {
            "cell_type": "code",
            "execution_count": 21,
            "source": [
                "def printAllVariableNamesandValues(**args):\r\n",
                "    for x in args:\r\n",
                "        print(x,args[x])\r\n",
                "\r\n",
                "printAllVariableNamesandValues(a=\"v\",b=\"ff\",c=\"sd\")"
            ],
            "outputs": [
                {
                    "output_type": "stream",
                    "name": "stdout",
                    "text": [
                        "a v\n",
                        "b ff\n",
                        "c sd\n"
                    ]
                }
            ],
            "metadata": {}
        },
        {
            "cell_type": "code",
            "execution_count": 24,
            "source": [
                "#Functiond with default value\r\n",
                "def f(sum=0):\r\n",
                "    return sum\r\n",
                "\r\n",
                "print(f())\r\n",
                "print(f(7))"
            ],
            "outputs": [
                {
                    "output_type": "stream",
                    "name": "stdout",
                    "text": [
                        "0\n",
                        "7\n"
                    ]
                }
            ],
            "metadata": {}
        },
        {
            "cell_type": "code",
            "execution_count": 26,
            "source": [
                "# Modules\r\n",
                "# Provide the path of the file and import file and \r\n",
                "# then use functions\r\n",
                "# Those functions should contain only list of functions\r\n",
                "import sys\r\n",
                "sys.path.append('E:/Python files/')\r\n",
                "import myfuncs as f\r\n",
                "f.printMe(\"Hello\")\r\n",
                "f.printMe()\r\n",
                "f.printList()\r\n",
                "f.printList([4,5,9.4,2,6])"
            ],
            "outputs": [
                {
                    "output_type": "stream",
                    "name": "stdout",
                    "text": [
                        "Hello\n",
                        "No message was supplied\n",
                        "4\n",
                        "5\n",
                        "9.4\n",
                        "2\n",
                        "6\n"
                    ]
                }
            ],
            "metadata": {}
        }
    ],
    "metadata": {
        "orig_nbformat": 4,
        "language_info": {
            "name": "python",
            "version": "3.9.6",
            "mimetype": "text/x-python",
            "codemirror_mode": {
                "name": "ipython",
                "version": 3
            },
            "pygments_lexer": "ipython3",
            "nbconvert_exporter": "python",
            "file_extension": ".py"
        },
        "kernelspec": {
            "name": "python3",
            "display_name": "Python 3.9.6 64-bit"
        },
        "interpreter": {
            "hash": "a12d694c3ccac42055183a0ad11e659c6a2db5c6555ad2c8919d5814fd4e404f"
        }
    },
    "nbformat": 4,
    "nbformat_minor": 2
}